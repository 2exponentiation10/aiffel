{
 "cells": [
  {
   "cell_type": "code",
   "execution_count": 1,
   "id": "c43e8989",
   "metadata": {},
   "outputs": [],
   "source": [
    "from sklearn.datasets import load_diabetes\n",
    "#sklearn.datasets의 load_diabetes에서 데이터호출\n",
    "di = load_diabetes()\n",
    "\n",
    "df_X=di.data\n",
    "df_y=di.target\n",
    "#diabetes의 data를 df_X에, target을 df_y에 저장\n"
   ]
  },
  {
   "cell_type": "code",
   "execution_count": 2,
   "id": "7c018283",
   "metadata": {},
   "outputs": [
    {
     "name": "stdout",
     "output_type": "stream",
     "text": [
      "feature 1 : age\n",
      "feature 2 : sex\n",
      "feature 3 : bmi\n",
      "feature 4 : bp\n",
      "feature 5 : s1\n",
      "feature 6 : s2\n",
      "feature 7 : s3\n",
      "feature 8 : s4\n",
      "feature 9 : s5\n",
      "feature 10 : s6\n"
     ]
    }
   ],
   "source": [
    "for i,feature_name in enumerate(di.feature_names):\n",
    "  print(f'feature {i+1} : {feature_name}')\n",
    "#특성확인"
   ]
  },
  {
   "cell_type": "code",
   "execution_count": 3,
   "id": "8ec2e3d3",
   "metadata": {},
   "outputs": [
    {
     "name": "stdout",
     "output_type": "stream",
     "text": [
      "<df_X[0]> :  [ 0.03807591  0.05068012  0.06169621  0.02187235 -0.0442235  -0.03482076\n",
      " -0.04340085 -0.00259226  0.01990842 -0.01764613]\n",
      "\n",
      "<df_y[0]> :  151.0\n"
     ]
    }
   ],
   "source": [
    "print('<df_X[0]> : ',df_X[0])\n",
    "print()\n",
    "print('<df_y[0]> : ',df_y[0] )\n",
    "\n",
    "#환자의 데이터확인"
   ]
  },
  {
   "cell_type": "code",
   "execution_count": 4,
   "id": "6056d31b",
   "metadata": {},
   "outputs": [
    {
     "name": "stdout",
     "output_type": "stream",
     "text": [
      "(442, 10)\n",
      "(442,)\n"
     ]
    }
   ],
   "source": [
    "import numpy as np\n",
    "\n",
    "df_X= np.array(df_X)\n",
    "df_y= np.array(df_y)\n",
    "\n",
    "#넘파이 배열이겠지만 그래도...변환!\n",
    "\n",
    "print(df_X.shape)\n",
    "print(df_y.shape)\n",
    "\n",
    "#각각의 쉐입 확인"
   ]
  },
  {
   "cell_type": "code",
   "execution_count": 5,
   "id": "77587301",
   "metadata": {},
   "outputs": [],
   "source": [
    "from sklearn.model_selection import train_test_split\n",
    "\n",
    "X_train, X_test, y_train, y_test = train_test_split(df_X, df_y, test_size=0.2, random_state=42)\n",
    "\n",
    "#sklearn의 내장된 train_test_split호출\n",
    "#8:2의 비율로 데이터 분리"
   ]
  },
  {
   "cell_type": "code",
   "execution_count": 6,
   "id": "b2795fed",
   "metadata": {},
   "outputs": [
    {
     "name": "stdout",
     "output_type": "stream",
     "text": [
      "(353, 10) (353,)\n",
      "(89, 10) (89,)\n"
     ]
    }
   ],
   "source": [
    "print(X_train.shape, y_train.shape)\n",
    "print(X_test.shape, y_test.shape)"
   ]
  },
  {
   "cell_type": "code",
   "execution_count": 7,
   "id": "cdab3031",
   "metadata": {},
   "outputs": [],
   "source": [
    "import numpy as np\n",
    "W = np.random.rand(10)\n",
    "b = np.random.rand()\n",
    "\n",
    "#환자의 특성이 10개 이기에 w에는 10개의 랜덤상수,b에는 한개의 랜덤 상수가 들어가있다."
   ]
  },
  {
   "cell_type": "code",
   "execution_count": 8,
   "id": "388434b7",
   "metadata": {},
   "outputs": [],
   "source": [
    "#모델생성!!\n",
    "def model(X, W, b):\n",
    "    pre = 0\n",
    "    for i in range(9):\n",
    "        pre += X[:, i] * W[i]\n",
    "    pre += b\n",
    "    return pre"
   ]
  },
  {
   "cell_type": "code",
   "execution_count": 9,
   "id": "55fbb1a9",
   "metadata": {},
   "outputs": [],
   "source": [
    "#손실함수로 실제값과 예상값의 차를 제곱평균인 MSE로 설정\n",
    "\n",
    "def MSE(a, b):\n",
    "    mse = ((a - b) ** 2).mean()\n",
    "    return mse\n",
    "\n",
    "\n",
    "def MAE(a, b):\n",
    "    mae = np.abs(a - b).mean()\n",
    "    return mae\n",
    "\n",
    "def RMSE(a, b):\n",
    "    rmse = np.sqrt(((a - b) ** 2).mean())\n",
    "    return rmse\n",
    "\n",
    "def loss(X, W, b, y):\n",
    "    pre = model(X, W, b)\n",
    "    L = MSE(pre, y)\n",
    "    return L\n"
   ]
  },
  {
   "cell_type": "markdown",
   "id": "24b7379f",
   "metadata": {},
   "source": [
    "의문점 MAE,RMSE는 둘다 훨씬 loss가 좋게 나오는데 왜 사용 안하는거지?\n",
    "(둘다 4,50대)\n",
    "MAE는 확인해보니 학습초반에 이상현상이 관측된다.\n",
    "\n",
    "\n",
    "RMSE는 이런 문제도 없는데 왜 사용안했는지 모르겠다."
   ]
  },
  {
   "cell_type": "code",
   "execution_count": 10,
   "id": "7afb8f91",
   "metadata": {},
   "outputs": [
    {
     "name": "stdout",
     "output_type": "stream",
     "text": [
      "슝=3\n"
     ]
    }
   ],
   "source": [
    "#기울기 계산함수\n",
    "def gradient(X, W, b, y):\n",
    "    # N은 데이터 포인트의 개수\n",
    "    N = len(y)\n",
    "    \n",
    "    # y_pred 준비\n",
    "    y_pred = model(X, W, b)\n",
    "    \n",
    "    # 공식에 맞게 gradient 계산\n",
    "    dW = 1/N * 2 * X.T.dot(y_pred - y)\n",
    "        \n",
    "    # b의 gradient 계산\n",
    "    db = 2 * (y_pred - y).mean()\n",
    "    return dW, db\n",
    "print(\"슝=3\")"
   ]
  },
  {
   "cell_type": "code",
   "execution_count": 11,
   "id": "8b959352",
   "metadata": {},
   "outputs": [],
   "source": [
    "L_rate=0.9\n",
    "#0.9가 다양한 값을 테스트했을때 베스트로 보인다."
   ]
  },
  {
   "cell_type": "code",
   "execution_count": 12,
   "id": "b42f6fe5",
   "metadata": {},
   "outputs": [
    {
     "name": "stdout",
     "output_type": "stream",
     "text": [
      "Iteration 1 : Loss 20993.2632\n",
      "Iteration 2 : Loss 15535.0066\n",
      "Iteration 3 : Loss 12020.8042\n",
      "Iteration 4 : Loss 9751.3680\n",
      "Iteration 5 : Loss 8279.1193\n",
      "Iteration 6 : Loss 7317.5808\n",
      "Iteration 7 : Loss 6683.3853\n",
      "Iteration 8 : Loss 6259.1595\n",
      "Iteration 9 : Loss 5969.7684\n",
      "Iteration 10 : Loss 5767.1112\n",
      "Iteration 11 : Loss 5620.3899\n",
      "Iteration 12 : Loss 5509.8816\n",
      "Iteration 13 : Loss 5422.9515\n",
      "Iteration 14 : Loss 5351.5023\n",
      "Iteration 15 : Loss 5290.3406\n",
      "Iteration 16 : Loss 5236.1325\n",
      "Iteration 17 : Loss 5186.7338\n",
      "Iteration 18 : Loss 5140.7628\n",
      "Iteration 19 : Loss 5097.3255\n",
      "Iteration 20 : Loss 5055.8405\n",
      "Iteration 21 : Loss 5015.9269\n",
      "Iteration 22 : Loss 4977.3321\n",
      "Iteration 23 : Loss 4939.8860\n",
      "Iteration 24 : Loss 4903.4717\n",
      "Iteration 25 : Loss 4868.0064\n",
      "Iteration 26 : Loss 4833.4292\n",
      "Iteration 27 : Loss 4799.6937\n",
      "Iteration 28 : Loss 4766.7630\n",
      "Iteration 29 : Loss 4734.6062\n",
      "Iteration 30 : Loss 4703.1969\n",
      "Iteration 31 : Loss 4672.5112\n",
      "Iteration 32 : Loss 4642.5276\n",
      "Iteration 33 : Loss 4613.2258\n",
      "Iteration 34 : Loss 4584.5867\n",
      "Iteration 35 : Loss 4556.5921\n",
      "Iteration 36 : Loss 4529.2247\n",
      "Iteration 37 : Loss 4502.4676\n",
      "Iteration 38 : Loss 4476.3046\n",
      "Iteration 39 : Loss 4450.7199\n",
      "Iteration 40 : Loss 4425.6984\n",
      "Iteration 41 : Loss 4401.2252\n",
      "Iteration 42 : Loss 4377.2861\n",
      "Iteration 43 : Loss 4353.8669\n",
      "Iteration 44 : Loss 4330.9543\n",
      "Iteration 45 : Loss 4308.5350\n",
      "Iteration 46 : Loss 4286.5963\n",
      "Iteration 47 : Loss 4265.1258\n",
      "Iteration 48 : Loss 4244.1113\n",
      "Iteration 49 : Loss 4223.5411\n"
     ]
    },
    {
     "data": {
      "image/png": "[encoded data removed]",
      "text/plain": [
       "<Figure size 432x288 with 1 Axes>"
      ]
     },
     "metadata": {
      "needs_background": "light"
     },
     "output_type": "display_data"
    }
   ],
   "source": [
    "losses = []\n",
    "\n",
    "for i in range(1, 50):\n",
    "    dW, db = gradient(X_train, W, b, y_train)\n",
    "    W -= L_rate * dW\n",
    "    b -= L_rate * db\n",
    "    L = loss(X_train, W, b, y_train)\n",
    "    losses.append(L)\n",
    "    if i % 1 == 0:\n",
    "        print('Iteration %d : Loss %0.4f' % (i, L))\n",
    "        \n",
    "import matplotlib.pyplot as plt\n",
    "plt.plot(losses)\n",
    "plt.show()"
   ]
  },
  {
   "cell_type": "code",
   "execution_count": 13,
   "id": "26b00e36",
   "metadata": {},
   "outputs": [
    {
     "data": {
      "text/plain": [
       "3660.9489807447167"
      ]
     },
     "execution_count": 13,
     "metadata": {},
     "output_type": "execute_result"
    }
   ],
   "source": [
    "prediction = model(X_test, W, b)\n",
    "mse = loss(X_test, W, b, y_test)\n",
    "mse"
   ]
  },
  {
   "cell_type": "code",
   "execution_count": 14,
   "id": "0afdfa97",
   "metadata": {},
   "outputs": [
    {
     "data": {
      "image/png": "[encoded data removed]",
      "text/plain": [
       "<Figure size 432x288 with 1 Axes>"
      ]
     },
     "metadata": {
      "needs_background": "light"
     },
     "output_type": "display_data"
    }
   ],
   "source": [
    "plt.scatter(X_test[:, 0], y_test)\n",
    "plt.scatter(X_test[:, 0], prediction)\n",
    "plt.show()"
   ]
  }
 ],
 "metadata": {
  "kernelspec": {
   "display_name": "Python 3 (ipykernel)",
   "language": "python",
   "name": "python3"
  },
  "language_info": {
   "codemirror_mode": {
    "name": "ipython",
    "version": 3
   },
   "file_extension": ".py",
   "mimetype": "text/x-python",
   "name": "python",
   "nbconvert_exporter": "python",
   "pygments_lexer": "ipython3",
   "version": "3.9.7"
  }
 },
 "nbformat": 4,
 "nbformat_minor": 5
}
